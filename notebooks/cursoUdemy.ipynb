{
  "nbformat": 4,
  "nbformat_minor": 0,
  "metadata": {
    "colab": {
      "name": "cursoUdemy.ipynb",
      "provenance": [],
      "toc_visible": true
    },
    "kernelspec": {
      "name": "python3",
      "display_name": "Python 3"
    }
  },
  "cells": [
    {
      "cell_type": "markdown",
      "metadata": {
        "id": "bQE7uQjHmVIC",
        "colab_type": "text"
      },
      "source": [
        "# modulo 1 machine learning udemy\n",
        "\n"
      ]
    },
    {
      "cell_type": "markdown",
      "metadata": {
        "id": "HJuwwfopNhm1",
        "colab_type": "text"
      },
      "source": [
        "## Base de dados credit_data"
      ]
    },
    {
      "cell_type": "markdown",
      "metadata": {
        "id": "onKBdv38nAgZ",
        "colab_type": "text"
      },
      "source": [
        "### Aula 1 - carregando o dataframe"
      ]
    },
    {
      "cell_type": "code",
      "metadata": {
        "id": "NMcR2l2RhFMi",
        "colab_type": "code",
        "colab": {}
      },
      "source": [
        "# carregando o dataframe com pandas\n",
        "import pandas as pd\n",
        "base = pd.read_csv('/content/credit_data.csv')"
      ],
      "execution_count": null,
      "outputs": []
    },
    {
      "cell_type": "code",
      "metadata": {
        "id": "RLr5xOF0lFvQ",
        "colab_type": "code",
        "colab": {}
      },
      "source": [
        "base.describe()"
      ],
      "execution_count": null,
      "outputs": []
    },
    {
      "cell_type": "markdown",
      "metadata": {
        "id": "O9-Ams_jnM-n",
        "colab_type": "text"
      },
      "source": [
        "### **Aula 2** - Tratando dados inconsistentes"
      ]
    },
    {
      "cell_type": "code",
      "metadata": {
        "id": "vcQBDflgmqnO",
        "colab_type": "code",
        "colab": {}
      },
      "source": [
        "# localizando valores negativos na coluna age = idade\n",
        "base.loc[base['age'] < 0]"
      ],
      "execution_count": null,
      "outputs": []
    },
    {
      "cell_type": "code",
      "metadata": {
        "id": "NxrKUk0_ndGN",
        "colab_type": "code",
        "colab": {}
      },
      "source": [
        "# Apagando a coluna\n",
        "base.drop('age', 1, inplace=True) # (nome da coluna, 1 = apagar toda a coluna, inplacer = True nao ira atribuir a nem uma variavel)"
      ],
      "execution_count": null,
      "outputs": []
    },
    {
      "cell_type": "code",
      "metadata": {
        "id": "b20U43uHoGSr",
        "colab_type": "code",
        "colab": {}
      },
      "source": [
        "# apagar somente os registros com problema\n",
        "base.drop(base[base.age < 0].index, inplace=True)"
      ],
      "execution_count": null,
      "outputs": []
    },
    {
      "cell_type": "code",
      "metadata": {
        "id": "pOMriIxKoqAy",
        "colab_type": "code",
        "colab": {
          "base_uri": "https://localhost:8080/",
          "height": 34
        },
        "outputId": "e3b908ce-b85a-4d4e-d208-91d3ba687288"
      },
      "source": [
        "# preenher os valores com a médias dos dados\n",
        "base.mean()\n",
        "# aqui utiliza todos os valores inclusive os errados\n",
        "base['age'].mean()\n",
        "# aqui aplicamos a media somente com os valores positivos\n",
        "base['age'][base.age > 0].mean()"
      ],
      "execution_count": null,
      "outputs": [
        {
          "output_type": "execute_result",
          "data": {
            "text/plain": [
              "40.92770044906149"
            ]
          },
          "metadata": {
            "tags": []
          },
          "execution_count": 86
        }
      ]
    },
    {
      "cell_type": "code",
      "metadata": {
        "id": "z9jqqUq_ql3x",
        "colab_type": "code",
        "colab": {}
      },
      "source": [
        "# Efetuando a substituição nos valores inconsistentes\n",
        "base.loc[base.age < 0, 'age'] = 40.92"
      ],
      "execution_count": null,
      "outputs": []
    },
    {
      "cell_type": "markdown",
      "metadata": {
        "id": "45Nmjf-YrDxD",
        "colab_type": "text"
      },
      "source": [
        "### **Aula 3** - Tratamento de valore faltantes"
      ]
    },
    {
      "cell_type": "code",
      "metadata": {
        "id": "Y-psSkGqrKLV",
        "colab_type": "code",
        "colab": {
          "base_uri": "https://localhost:8080/"
        },
        "outputId": "85d21fcf-aeb8-4077-82ae-e9d41aacc41a"
      },
      "source": [
        "# verificando e localizando se o dataframe possui valor nulo na tabela age\n",
        "pd.isnull(base['age']) # mostra toda a tabela\n",
        "base.loc[pd.isnull(base['age'])] # mostra somente os valores nulos"
      ],
      "execution_count": null,
      "outputs": [
        {
          "output_type": "execute_result",
          "data": {
            "text/html": [
              "<div>\n",
              "<style scoped>\n",
              "    .dataframe tbody tr th:only-of-type {\n",
              "        vertical-align: middle;\n",
              "    }\n",
              "\n",
              "    .dataframe tbody tr th {\n",
              "        vertical-align: top;\n",
              "    }\n",
              "\n",
              "    .dataframe thead th {\n",
              "        text-align: right;\n",
              "    }\n",
              "</style>\n",
              "<table border=\"1\" class=\"dataframe\">\n",
              "  <thead>\n",
              "    <tr style=\"text-align: right;\">\n",
              "      <th></th>\n",
              "      <th>i#clientid</th>\n",
              "      <th>income</th>\n",
              "      <th>age</th>\n",
              "      <th>loan</th>\n",
              "      <th>c#default</th>\n",
              "    </tr>\n",
              "  </thead>\n",
              "  <tbody>\n",
              "    <tr>\n",
              "      <th>28</th>\n",
              "      <td>29</td>\n",
              "      <td>59417.805406</td>\n",
              "      <td>NaN</td>\n",
              "      <td>2082.625938</td>\n",
              "      <td>0</td>\n",
              "    </tr>\n",
              "    <tr>\n",
              "      <th>30</th>\n",
              "      <td>31</td>\n",
              "      <td>48528.852796</td>\n",
              "      <td>NaN</td>\n",
              "      <td>6155.784670</td>\n",
              "      <td>0</td>\n",
              "    </tr>\n",
              "    <tr>\n",
              "      <th>31</th>\n",
              "      <td>32</td>\n",
              "      <td>23526.302555</td>\n",
              "      <td>NaN</td>\n",
              "      <td>2862.010139</td>\n",
              "      <td>0</td>\n",
              "    </tr>\n",
              "  </tbody>\n",
              "</table>\n",
              "</div>"
            ],
            "text/plain": [
              "    i#clientid        income  age         loan  c#default\n",
              "28          29  59417.805406  NaN  2082.625938          0\n",
              "30          31  48528.852796  NaN  6155.784670          0\n",
              "31          32  23526.302555  NaN  2862.010139          0"
            ]
          },
          "metadata": {
            "tags": []
          },
          "execution_count": 16
        }
      ]
    },
    {
      "cell_type": "code",
      "metadata": {
        "id": "RvTPs5EAr5oZ",
        "colab_type": "code",
        "colab": {}
      },
      "source": [
        "# separando o dataframe em previsores e a classe\n",
        "# X\n",
        "previsores = base.iloc[:, 1:4].values\n",
        "# y\n",
        "classe = base.iloc[:, 4].values"
      ],
      "execution_count": null,
      "outputs": []
    },
    {
      "cell_type": "code",
      "metadata": {
        "id": "WM-uyUk0s8Pm",
        "colab_type": "code",
        "colab": {}
      },
      "source": [
        "# importando o sklearn para efetupar o processamento dos valores nulos\n",
        "import numpy as np\n",
        "from sklearn.impute import SimpleImputer\n",
        "imputer = SimpleImputer(missing_values=np.nan, strategy='mean')\n",
        "imputer = imputer.fit(previsores[:, 0:3])\n",
        "previsores[:, 0:3] = imputer.transform(previsores[:,0:3])"
      ],
      "execution_count": null,
      "outputs": []
    },
    {
      "cell_type": "markdown",
      "metadata": {
        "id": "JQ4LeDm2E5Dl",
        "colab_type": "text"
      },
      "source": [
        "### **Aula 4** - Escalonamento de atributos"
      ]
    },
    {
      "cell_type": "code",
      "metadata": {
        "id": "dzLM6bjgFC--",
        "colab_type": "code",
        "colab": {}
      },
      "source": [
        "# fazendo a padronização dos previsores\n",
        "from sklearn.preprocessing import StandardScaler\n",
        "scaler = StandardScaler()\n",
        "previsores = scaler.fit_transform(previsores)"
      ],
      "execution_count": null,
      "outputs": []
    },
    {
      "cell_type": "markdown",
      "metadata": {
        "id": "3pVFYHVXNOad",
        "colab_type": "text"
      },
      "source": [
        "## Base de dados censo"
      ]
    },
    {
      "cell_type": "markdown",
      "metadata": {
        "id": "dNzmIxVNLL9D",
        "colab_type": "text"
      },
      "source": [
        "### **Aula 5** - Base de dados do censo"
      ]
    },
    {
      "cell_type": "code",
      "metadata": {
        "id": "2cf5R8NNLM18",
        "colab_type": "code",
        "colab": {}
      },
      "source": [
        "import pandas as pd\n",
        "# Importando o dataframe\n",
        "base = pd.read_csv('/content/census.csv')"
      ],
      "execution_count": null,
      "outputs": []
    },
    {
      "cell_type": "markdown",
      "metadata": {
        "id": "hC1sdhpcN2-q",
        "colab_type": "text"
      },
      "source": [
        "### **Aula 6** - Transformação de variaveis categóricas em variaveis numericas"
      ]
    },
    {
      "cell_type": "code",
      "metadata": {
        "id": "WAlnFG38N--5",
        "colab_type": "code",
        "colab": {}
      },
      "source": [
        "# separando o dataframe em X e y\n",
        "previsores = base.iloc[:,0:14].values\n",
        "classe = base.iloc[:, 14].values"
      ],
      "execution_count": null,
      "outputs": []
    },
    {
      "cell_type": "code",
      "metadata": {
        "id": "guPfcukhOg_5",
        "colab_type": "code",
        "colab": {}
      },
      "source": [
        "# aqui faz transformação das string por numeros conrespondendo a cada valor.\n",
        "from sklearn.preprocessing import LabelEncoder\n",
        "labelencoder_previsores = LabelEncoder()\n",
        "#labels = labelencoder_previsores.fit_transform(previsores[:, 1])\n",
        "#efetuando a transformação na tabela 2 da base de dados.\n",
        "previsores[:, 1] = labelencoder_previsores.fit_transform(previsores[:, 1])\n"
      ],
      "execution_count": null,
      "outputs": []
    },
    {
      "cell_type": "code",
      "metadata": {
        "id": "VwrEcgoiPqj3",
        "colab_type": "code",
        "colab": {}
      },
      "source": [
        "# convertendo as outras tabelas restantes.\n",
        "previsores[:, 3] = labelencoder_previsores.fit_transform(previsores[:, 3])\n",
        "previsores[:, 5] = labelencoder_previsores.fit_transform(previsores[:, 5])\n",
        "previsores[:, 6] = labelencoder_previsores.fit_transform(previsores[:, 6])\n",
        "previsores[:, 7] = labelencoder_previsores.fit_transform(previsores[:, 7])\n",
        "previsores[:, 8] = labelencoder_previsores.fit_transform(previsores[:, 8])\n",
        "previsores[:, 9] = labelencoder_previsores.fit_transform(previsores[:, 9])\n",
        "previsores[:, 13] = labelencoder_previsores.fit_transform(previsores[:, 13])"
      ],
      "execution_count": null,
      "outputs": []
    },
    {
      "cell_type": "code",
      "metadata": {
        "id": "12yHaOA0iWWR",
        "colab_type": "code",
        "colab": {}
      },
      "source": [
        "# Tratando os previsores antes de executar o codio a baixo\n",
        "previsores = base.iloc[:,8:9].values"
      ],
      "execution_count": null,
      "outputs": []
    },
    {
      "cell_type": "code",
      "metadata": {
        "id": "juMO99gkiuWZ",
        "colab_type": "code",
        "colab": {}
      },
      "source": [
        "previsores[:, 0] = labelencoder_previsores.fit_transform(previsores[:, 0])"
      ],
      "execution_count": null,
      "outputs": []
    },
    {
      "cell_type": "code",
      "metadata": {
        "id": "AjZk01SUQaum",
        "colab_type": "code",
        "colab": {}
      },
      "source": [
        "# essa estratégia é utilizanda quando um valor nao pode ser considerado melhor que o outro\n",
        "# como preto e branco.\n",
        "# tratando a coluna race com o metodo de variavel \"Dummy\". \n",
        "from sklearn.preprocessing import OneHotEncoder\n",
        "from sklearn.compose import ColumnTransformer\n",
        "\n",
        "onehotencorder = ColumnTransformer(transformers=[(\"OneHot\", OneHotEncoder(), [1,3,5,6,7,8,9,13])],remainder='passthrough')\n",
        "previsores = onehotencorder.fit_transform(previsores).toarray()"
      ],
      "execution_count": null,
      "outputs": []
    },
    {
      "cell_type": "code",
      "metadata": {
        "id": "dHBjlulwmulJ",
        "colab_type": "code",
        "colab": {}
      },
      "source": [
        "labelencoder_classe = LabelEncoder()\n",
        "classe = labelencoder_classe.fit_transform(classe)"
      ],
      "execution_count": null,
      "outputs": []
    },
    {
      "cell_type": "markdown",
      "metadata": {
        "id": "rQghGT2tnM8w",
        "colab_type": "text"
      },
      "source": [
        "### **Aula 7** - Escalonamento dos valores"
      ]
    },
    {
      "cell_type": "code",
      "metadata": {
        "id": "IUOiNp9-nXTS",
        "colab_type": "code",
        "colab": {}
      },
      "source": [
        "from sklearn.preprocessing import StandardScaler\n",
        "scaler = StandardScaler()\n",
        "previsores = scaler.fit_transform(previsores)"
      ],
      "execution_count": null,
      "outputs": []
    },
    {
      "cell_type": "markdown",
      "metadata": {
        "id": "87TtF5tPK6M5",
        "colab_type": "text"
      },
      "source": [
        "## **Aula 8** - Avaliação de algoritimo"
      ]
    },
    {
      "cell_type": "code",
      "metadata": {
        "id": "TAMjYcYMLEhP",
        "colab_type": "code",
        "colab": {}
      },
      "source": [
        "# separando os dados em treinamento e teste.\n",
        "from sklearn.model_selection import train_test_split\n",
        "\n",
        "previsores_treinamento, previsores_test, classe_treinamento, classe_teste = train_test_split(previsores, classe, test_size=0.25, random_state=0)"
      ],
      "execution_count": null,
      "outputs": []
    },
    {
      "cell_type": "markdown",
      "metadata": {
        "id": "6o-KUcEE8Z2s",
        "colab_type": "text"
      },
      "source": [
        "# Arvore de decisão"
      ]
    },
    {
      "cell_type": "code",
      "metadata": {
        "id": "t0FQsu_58ebT",
        "colab_type": "code",
        "colab": {}
      },
      "source": [
        ""
      ],
      "execution_count": null,
      "outputs": []
    }
  ]
}